{
 "cells": [
  {
   "cell_type": "markdown",
   "metadata": {},
   "source": [
    "# Maximizing throughput across jobs"
   ]
  },
  {
   "cell_type": "code",
   "execution_count": 1,
   "metadata": {},
   "outputs": [],
   "source": [
    "import csv\n",
    "cluster_num_gpus=4\n",
    "\n",
    "def get_baseline_perf(job, exec_plan, num_gpus):\n",
    "    baseline_perf = 0\n",
    "    job_trace = \"../../simulator/traces/\" + job + \"/placements.csv\"\n",
    "    with open(job_trace, \"r\", encoding=\"utf-8-sig\") as data:\n",
    "        reader_config = csv.DictReader(data)\n",
    "        data_rows = list(reader_config)\n",
    "    for data_row in data_rows:\n",
    "        if (\n",
    "            data_row[\"placement\"] == str(num_gpus)\n",
    "            and data_row[\"exec_plan\"] == exec_plan\n",
    "        ):\n",
    "            baseline_perf = data_row[\"iter_time\"]\n",
    "    return float(baseline_perf)\n",
    "\n",
    "jobs = [\"roberta\",\"t5_3B\"]\n",
    "\n",
    "scheduler_norm_tpt = {}\n",
    "for job in jobs:\n",
    "    scheduler_norm_tpt.setdefault(job, {})\n",
    "\n",
    "scheduler_norm_tpt[\"roberta\"][\"baseline\"] = get_baseline_perf(\"roberta\", \"ga\", cluster_num_gpus)\n",
    "scheduler_norm_tpt[\"t5_3B\"][\"baseline\"] = get_baseline_perf(\"t5_3B\", \"tp+ga\", cluster_num_gpus)"
   ]
  },
  {
   "cell_type": "markdown",
   "metadata": {},
   "source": [
    "## Simple Scheduler Allocation"
   ]
  },
  {
   "cell_type": "code",
   "execution_count": 2,
   "metadata": {},
   "outputs": [
    {
     "name": "stdout",
     "output_type": "stream",
     "text": [
      "Simple Scheduler: allocates 2 GPUs to each job.\n",
      "roberta takes 0.697693418 seconds under zero-dp.\n",
      "The normalized throughput of roberta is 0.53.\n",
      "t5_3B takes 3.2757 seconds under zero-offload.\n",
      "The normalized throughput of t5_3B is 0.25.\n"
     ]
    }
   ],
   "source": [
    "from simple_scheduler import SimpleScheduler\n",
    "\n",
    "simple_scheduler = SimpleScheduler(cluster_num_gpus)\n",
    "simple_scheduler.submit(\"roberta\")\n",
    "simple_scheduler.submit(\"t5_3B\")\n",
    "simple_scheduler.allocate()\n",
    "job_performance = simple_scheduler.simulate()\n",
    "print('Simple Scheduler: allocates 2 GPUs to each job.')\n",
    "for job in job_performance:\n",
    "    print(f'{job} takes {job_performance[job][0]} seconds under {job_performance[job][1]}.')\n",
    "    scheduler_norm_tpt[job][\"Simple\"]=round(scheduler_norm_tpt[job][\"baseline\"]/job_performance[job][0],2)\n",
    "    print(f'The normalized throughput of {job} is {scheduler_norm_tpt[job][\"Simple\"]}.')"
   ]
  },
  {
   "cell_type": "markdown",
   "metadata": {},
   "source": [
    "## Morphling Scheduler Reconfiguration"
   ]
  },
  {
   "cell_type": "code",
   "execution_count": 3,
   "metadata": {},
   "outputs": [
    {
     "name": "stderr",
     "output_type": "stream",
     "text": [
      "/Users/zhizhi/opt/anaconda3/lib/python3.9/site-packages/pydantic/_internal/_config.py:341: UserWarning: Valid config keys have changed in V2:\n",
      "* 'allow_population_by_field_name' has been renamed to 'populate_by_name'\n",
      "* 'validate_all' has been renamed to 'validate_default'\n",
      "  warnings.warn(message, UserWarning)\n",
      "/Users/zhizhi/opt/anaconda3/lib/python3.9/site-packages/pydantic/_internal/_fields.py:132: UserWarning: Field \"model_persistence_threshold\" in DeepSpeedZeroConfig has conflict with protected namespace \"model_\".\n",
      "\n",
      "You may be able to resolve this warning by setting `model_config['protected_namespaces'] = ()`.\n",
      "  warnings.warn(\n",
      "/Users/zhizhi/opt/anaconda3/lib/python3.9/site-packages/pydantic/_internal/_config.py:341: UserWarning: Valid config keys have changed in V2:\n",
      "* 'validate_all' has been renamed to 'validate_default'\n",
      "  warnings.warn(message, UserWarning)\n",
      "NOTE: Redirects are currently not supported in Windows or MacOs.\n"
     ]
    },
    {
     "name": "stdout",
     "output_type": "stream",
     "text": [
      "Morphling Scheduler: maximizes throughput considering jobs’ resource sensitivity.\n",
      "Reconfiguration result:\n",
      "  allocates 1 GPUs to roberta, and reconfigures it to use zero-dp+ga.\n",
      "  allocates 3 GPUs to t5_3B, and reconfigures it to use tp+ga.\n",
      "roberta takes 0.68361435 seconds under zero-dp.\n",
      "The normalized throughput of roberta is 0.55.\n",
      "t5_3B takes 0.9301 seconds under tp+ga.\n",
      "The normalized throughput of t5_3B is 0.89.\n"
     ]
    }
   ],
   "source": [
    "from Morphling_scheuler import MorphlingScheduler\n",
    "morphling_scheduler = MorphlingScheduler(cluster_num_gpus)\n",
    "morphling_scheduler.submit(\"roberta\")\n",
    "morphling_scheduler.submit(\"t5_3B\")\n",
    "print('Morphling Scheduler: maximizes throughput considering jobs’ resource sensitivity.')\n",
    "allocation = morphling_scheduler.allocate()\n",
    "print(f'Reconfiguration result:')\n",
    "for job in jobs:\n",
    "    print(f'  allocates {allocation[job][0]} GPUs to {job}, and reconfigures it to use {allocation[job][1]}.')\n",
    "\n",
    "job_performance = morphling_scheduler.simulate()\n",
    "for job in job_performance:\n",
    "    print(f'{job} takes {job_performance[job][0]} seconds under {job_performance[job][1]}.')\n",
    "    scheduler_norm_tpt[job][\"Morphling\"]=round(scheduler_norm_tpt[job][\"baseline\"]/job_performance[job][0],2)\n",
    "    print(f'The normalized throughput of {job} is {scheduler_norm_tpt[job][\"Morphling\"]}.')"
   ]
  },
  {
   "cell_type": "code",
   "execution_count": 4,
   "metadata": {},
   "outputs": [
    {
     "data": {
      "image/png": "[encoded data removed]",
      "text/plain": [
       "<Figure size 576x144 with 1 Axes>"
      ]
     },
     "metadata": {
      "needs_background": "light"
     },
     "output_type": "display_data"
    }
   ],
   "source": [
    "import numpy as np\n",
    "import pandas as pd\n",
    "import matplotlib\n",
    "import matplotlib.pyplot as plt\n",
    "pd.set_option('display.max_colwidth', 1000)\n",
    "pd.set_option('display.max_columns', 100)\n",
    "matplotlib.rcParams.update({\"font.size\": 17,'lines.linewidth': 4.3})\n",
    "\n",
    "plt.figure(figsize=(8,2))\n",
    "\n",
    "# Bar chart configuration\n",
    "size = 3\n",
    "x = np.arange(size)\n",
    "total_width, n = 0.4, 2\n",
    "width = total_width / n\n",
    "x = x - (total_width - width) / 2\n",
    "colors = [\"#E15759\", \"#4E79A7\"]\n",
    "hatchs = [\"//\", \"\\\\\"]\n",
    "\n",
    "i=0\n",
    "text_x=-0.11\n",
    "for scheduler in [\"Morphling\",\"Simple\"]:\n",
    "    norm_tpt = []\n",
    "    for job in scheduler_norm_tpt:\n",
    "        norm_tpt.append(scheduler_norm_tpt[job][scheduler])\n",
    "    norm_tpt.append(sum(norm_tpt))\n",
    "    plt.bar(x, norm_tpt, edgecolor=colors[i],linewidth=2, width=width, label=scheduler,hatch=hatchs[i],fill=False)\n",
    "    for tpt in norm_tpt:\n",
    "        plt.text(text_x,tpt+0.2,tpt,ha='center', va='center',fontsize=16)\n",
    "        text_x+=1\n",
    "    x+=width\n",
    "    i+=1\n",
    "    text_x=0.11\n",
    "    \n",
    "\n",
    "plt.ylabel(\"Speedup of jobs\")\n",
    "plt.legend(loc=\"upper left\",ncol=2,handlelength=1)\n",
    "plt.xticks([0,1,2],[\"RoBERTa\",\"T5\",\"Overall\"])\n",
    "plt.ylim([0,2])\n",
    "plt.grid(linestyle = 'dashed', linewidth = 0.5)\n"
   ]
  }
 ],
 "metadata": {
  "kernelspec": {
   "display_name": "base",
   "language": "python",
   "name": "python3"
  },
  "language_info": {
   "codemirror_mode": {
    "name": "ipython",
    "version": 3
   },
   "file_extension": ".py",
   "mimetype": "text/x-python",
   "name": "python",
   "nbconvert_exporter": "python",
   "pygments_lexer": "ipython3",
   "version": "3.9.12"
  }
 },
 "nbformat": 4,
 "nbformat_minor": 2
}
